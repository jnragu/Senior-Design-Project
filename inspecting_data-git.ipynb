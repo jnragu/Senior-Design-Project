{
 "metadata": {
  "language_info": {
   "codemirror_mode": {
    "name": "ipython",
    "version": 3
   },
   "file_extension": ".py",
   "mimetype": "text/x-python",
   "name": "python",
   "nbconvert_exporter": "python",
   "pygments_lexer": "ipython3",
   "version": "3.6.12"
  },
  "orig_nbformat": 2,
  "kernelspec": {
   "name": "python3",
   "display_name": "Python 3.6.12 64-bit ('seniordesign': conda)",
   "metadata": {
    "interpreter": {
     "hash": "10d36459aed05cce679a70b4a9d9bfe88f18c784775317840a3e04e7e2571e52"
    }
   }
  }
 },
 "nbformat": 4,
 "nbformat_minor": 2,
 "cells": [
  {
   "source": [
    "# Inspecting the data from multimodal-sentiment-analysis github repo\n",
    "\n",
    "Contains 3 classes: positive / negative / neutral"
   ],
   "cell_type": "markdown",
   "metadata": {}
  },
  {
   "cell_type": "code",
   "execution_count": 42,
   "metadata": {},
   "outputs": [],
   "source": [
    "import pickle \n",
    "import numpy as np\n",
    "\n",
    "audioFile = './cmumosei_preprocessed/audio_3way.pickle'\n",
    "textFile = './cmumosei_preprocessed/text_3way.pickle'\n",
    "videoFile = './cmumosei_preprocessed/video_3way.pickle'\n",
    "\n",
    "infile = open(audioFile, 'rb')\n",
    "audio_data = pickle.load(infile, encoding='latin1')\n",
    "infile.close\n",
    "\n",
    "infile = open(textFile, 'rb')\n",
    "text_data = pickle.load(infile, encoding='latin1')\n",
    "infile.close\n",
    "\n",
    "infile = open(videoFile, 'rb')\n",
    "video_data = pickle.load(infile, encoding='latin1')\n",
    "infile.close\n",
    "\n",
    "(audio_train, train_label, _, _, audio_test, test_label, _, train_length, _, test_length, _, _,\n",
    "                _) = audio_data\n",
    "\n",
    "(text_train, train_label, _, _, text_test, test_label, _, train_length, _, test_length, _, _, _) = text_data\n",
    "\n",
    "(video_train, train_label, _, _, video_test, test_label, _, train_length, _, test_length, _, _, _) = video_data"
   ]
  },
  {
   "source": [
    "## Training Dimensions\n",
    "(number of videos, utterance length per video, feature dimensions)"
   ],
   "cell_type": "markdown",
   "metadata": {}
  },
  {
   "cell_type": "code",
   "execution_count": 52,
   "metadata": {},
   "outputs": [
    {
     "output_type": "execute_result",
     "data": {
      "text/plain": [
       "(2250, 98, 74)"
      ]
     },
     "metadata": {},
     "execution_count": 52
    }
   ],
   "source": [
    "audio_train.shape"
   ]
  },
  {
   "source": [
    "video_train.shape"
   ],
   "cell_type": "code",
   "metadata": {},
   "execution_count": 53,
   "outputs": [
    {
     "output_type": "execute_result",
     "data": {
      "text/plain": [
       "(2250, 98, 35)"
      ]
     },
     "metadata": {},
     "execution_count": 53
    }
   ]
  },
  {
   "cell_type": "code",
   "execution_count": 54,
   "metadata": {},
   "outputs": [
    {
     "output_type": "execute_result",
     "data": {
      "text/plain": [
       "(2250, 98, 300)"
      ]
     },
     "metadata": {},
     "execution_count": 54
    }
   ],
   "source": [
    "text_train.shape"
   ]
  },
  {
   "cell_type": "code",
   "execution_count": 60,
   "metadata": {},
   "outputs": [
    {
     "output_type": "execute_result",
     "data": {
      "text/plain": [
       "(2250, 98, 3)"
      ]
     },
     "metadata": {},
     "execution_count": 60
    }
   ],
   "source": [
    "train_label.shape"
   ]
  },
  {
   "cell_type": "code",
   "execution_count": 63,
   "metadata": {},
   "outputs": [
    {
     "output_type": "execute_result",
     "data": {
      "text/plain": [
       "5"
      ]
     },
     "metadata": {},
     "execution_count": 63
    }
   ],
   "source": [
    "# Contains the utterence length of each video in the train data\n",
    "train_length.shape"
   ]
  },
  {
   "source": [
    "## Test Dimensions\n",
    "\n",
    "(number of videos, number of utterances, feature dimensions)"
   ],
   "cell_type": "markdown",
   "metadata": {}
  },
  {
   "cell_type": "code",
   "execution_count": 56,
   "metadata": {},
   "outputs": [
    {
     "output_type": "execute_result",
     "data": {
      "text/plain": [
       "(678, 98, 74)"
      ]
     },
     "metadata": {},
     "execution_count": 56
    }
   ],
   "source": [
    "audio_test.shape"
   ]
  },
  {
   "cell_type": "code",
   "execution_count": 57,
   "metadata": {},
   "outputs": [
    {
     "output_type": "execute_result",
     "data": {
      "text/plain": [
       "(678, 98, 35)"
      ]
     },
     "metadata": {},
     "execution_count": 57
    }
   ],
   "source": [
    "video_test.shape"
   ]
  },
  {
   "cell_type": "code",
   "execution_count": 58,
   "metadata": {},
   "outputs": [
    {
     "output_type": "execute_result",
     "data": {
      "text/plain": [
       "(678, 98, 300)"
      ]
     },
     "metadata": {},
     "execution_count": 58
    }
   ],
   "source": [
    "text_test.shape"
   ]
  }
 ]
}