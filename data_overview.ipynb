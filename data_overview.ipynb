{
 "metadata": {
  "language_info": {
   "codemirror_mode": {
    "name": "ipython",
    "version": 3
   },
   "file_extension": ".py",
   "mimetype": "text/x-python",
   "name": "python",
   "nbconvert_exporter": "python",
   "pygments_lexer": "ipython3",
   "version": "3.6.12"
  },
  "orig_nbformat": 2,
  "kernelspec": {
   "name": "python3",
   "display_name": "Python 3.6.12 64-bit ('seniordesign': conda)",
   "metadata": {
    "interpreter": {
     "hash": "10d36459aed05cce679a70b4a9d9bfe88f18c784775317840a3e04e7e2571e52"
    }
   }
  }
 },
 "nbformat": 4,
 "nbformat_minor": 2,
 "cells": [
  {
   "source": [
    "# CMU-MOSEI Data\n",
    "\n",
    "## Summary \n",
    "\n",
    "**Number of data points**\n",
    "- 23,453\n",
    "\n",
    "**Number of distinct speakers**\n",
    "- 1,000\n",
    "\n",
    "**Subset Modalities**\n",
    "- Language\n",
    "- Video \n",
    "- Audio\n",
    "\n",
    "**Labels**\n",
    "- Sentiment\n",
    "- Emotion\n",
    "\n",
    "**Total Number of Video Hours**\n",
    "- 65 hours 53 minutes 36 seconds\n",
    "\n",
    "**Dataset Statistics**\n",
    "\n",
    "![](Images/CMU-MOSEI_dataset_statistics.png)\n",
    "\n",
    "## Labels\n",
    "\n",
    "### Sentiment \n",
    "\n",
    "| Scale | Description | \n",
    "| --- | --- | \n",
    "| -3 | highly negative | \n",
    "| -2 | negative | \n",
    "| -1 | weakly negative | \n",
    "| 0 | neutral | \n",
    "| +1 | weakly positive | \n",
    "| +2 | positive | \n",
    "| +3 | highly positive | \n",
    "\n",
    "### Emotions \n",
    "\n",
    "{happiness, sadness, anger, fear, disgust, surprise}\n",
    "\n",
    "Scale for presence of emotion $x$\n",
    "\n",
    "| Scale | Description | \n",
    "| --- | --- | \n",
    "| 0 | no evidence of $x$ | \n",
    "| 1 | weakly $x$ | \n",
    "| 2 | $x$ | \n",
    "| 3 | highly $x$ | \n",
    "\n",
    "## Extracted Features\n",
    "\n",
    "### Language\n",
    "\n",
    "| Feature | Extraction Method |\n",
    "| --- | --- |\n",
    "| word vectors | GloVe word embeddings | \n",
    "\n",
    "### Visual \n",
    "\n",
    "Frames are extracted from full videos at 30Hz\n",
    "\n",
    "| Feature | Extraction Method |\n",
    "| --- | --- |\n",
    "| bounding box of face | MTCNN face detection algorithm |\n",
    "| facial action units | Facial Action Coding System (FACS) |\n",
    "| six basic emotions | Emotient FACET |\n",
    "| 68 facial landmarks | MultiComp OpenFace |\n",
    "| 20 facial shape parameters | MultiComp OpenFace |\n",
    "| facial HoG features | MultiComp OpenFace |\n",
    "| head pose | MultiComp OpenFace |\n",
    "| head orientation | MultiComp OpenFace |\n",
    "| eye gaze | MultiComp OpenFace |\n",
    "| face embeddings | DeepFace, FaceNet, SphereFace |\n",
    "\n",
    "### Audio\n",
    "\n",
    "| Feature | Extraction Method | \n",
    "| --- | --- |\n",
    "| 12 Mel-frequency cepstral coefficients | COVAREP |\n",
    "| pitch | COVAREP |\n",
    "| voiced/unvoiced segmenting | COVAREP |\n",
    "| glottal source parameters | COVAREP |\n",
    "| peak slope parameters | COVAREP |\n",
    "| maxima dispersion quotients | COVAREP |\n",
    "\n",
    "## Alignment \n",
    "\n",
    "Words and audio are aligned at phoneme level using P2FA fored alignment model \n",
    "- The visual and audio modalities are aligned to words by interpolation\n",
    "\n",
    "## Using the Data\n",
    "\n",
    "### Import features"
   ],
   "cell_type": "markdown",
   "metadata": {}
  },
  {
   "cell_type": "code",
   "execution_count": 4,
   "metadata": {},
   "outputs": [
    {
     "output_type": "stream",
     "name": "stderr",
     "text": [
      "  3%|▎         | 121/3836 [00:00<00:03, 1202.58 Computational Sequence Entries/s]\u001b[92m\u001b[1m[2021-02-19 21:08:55.800] | Success | \u001b[0mComputational sequence read from file ./data/cmumosei/CMU_MOSEI_COVAREP.csd ...\n",
      "\u001b[94m\u001b[1m[2021-02-19 21:08:55.899] | Status  | \u001b[0mChecking the integrity of the <COVAREP> computational sequence ...\n",
      "\u001b[94m\u001b[1m[2021-02-19 21:08:55.899] | Status  | \u001b[0mChecking the format of the data in <COVAREP> computational sequence ...\n",
      "\u001b[92m\u001b[1m[2021-02-19 21:08:58.905] | Success | \u001b[0m<COVAREP> computational sequence data in correct format.\n",
      "\u001b[94m\u001b[1m[2021-02-19 21:08:58.905] | Status  | \u001b[0mChecking the format of the metadata in <COVAREP> computational sequence ...\n",
      "\u001b[93m\u001b[1m[2021-02-19 21:08:58.905] | Warning | \u001b[0m<COVAREP> computational sequence does not have all the required metadata ... continuing \n",
      "\u001b[92m\u001b[1m[2021-02-19 21:08:58.908] | Success | \u001b[0mComputational sequence read from file ./data/cmumosei/CMU_MOSEI_VisualOpenFace2.csd ...\n",
      "  2%|▏         | 76/3837 [00:00<00:04, 753.63 Computational Sequence Entries/s]\u001b[94m\u001b[1m[2021-02-19 21:08:59.897] | Status  | \u001b[0mChecking the integrity of the <OpenFace_2> computational sequence ...\n",
      "\u001b[94m\u001b[1m[2021-02-19 21:08:59.897] | Status  | \u001b[0mChecking the format of the data in <OpenFace_2> computational sequence ...\n",
      "\u001b[92m\u001b[1m[2021-02-19 21:09:05.141] | Success | \u001b[0m<OpenFace_2> computational sequence data in correct format.\n",
      "\u001b[94m\u001b[1m[2021-02-19 21:09:05.141] | Status  | \u001b[0mChecking the format of the metadata in <OpenFace_2> computational sequence ...\n",
      "\u001b[93m\u001b[1m[2021-02-19 21:09:05.141] | Warning | \u001b[0m<OpenFace_2> computational sequence does not have all the required metadata ... continuing \n",
      "\u001b[92m\u001b[1m[2021-02-19 21:09:05.142] | Success | \u001b[0mComputational sequence read from file ./data/cmumosei/CMU_MOSEI_TimestampedWordVectors.csd ...\n",
      "  2%|▏         | 65/3837 [00:00<00:05, 646.67 Computational Sequence Entries/s]\u001b[94m\u001b[1m[2021-02-19 21:09:06.310] | Status  | \u001b[0mChecking the integrity of the <glove_vectors> computational sequence ...\n",
      "\u001b[94m\u001b[1m[2021-02-19 21:09:06.311] | Status  | \u001b[0mChecking the format of the data in <glove_vectors> computational sequence ...\n",
      "                                                                                 \u001b[92m\u001b[1m[2021-02-19 21:09:12.095] | Success | \u001b[0m<glove_vectors> computational sequence data in correct format.\n",
      "\u001b[94m\u001b[1m[2021-02-19 21:09:12.095] | Status  | \u001b[0mChecking the format of the metadata in <glove_vectors> computational sequence ...\n",
      "\u001b[93m\u001b[1m[2021-02-19 21:09:12.095] | Warning | \u001b[0m<glove_vectors> computational sequence does not have all the required metadata ... continuing \n",
      "\u001b[92m\u001b[1m[2021-02-19 21:09:12.096] | Success | \u001b[0mDataset initialized successfully ... \n"
     ]
    }
   ],
   "source": [
    "from mmsdk import mmdatasdk\n",
    "\n",
    "audio_file = './data/cmumosei/CMU_MOSEI_COVAREP.csd'\n",
    "visual_file = './data/cmumosei/CMU_MOSEI_VisualOpenFace2.csd'\n",
    "\n",
    "features = [ audio_file, visual_facet_file, visual_openface_file]\n",
    "\n",
    "\n",
    "data = mmdatasdk.mmdataset({'audio': audio_file, 'visual': visual_file})\n"
   ]
  },
  {
   "source": [
    "### Align dataset to labels"
   ],
   "cell_type": "markdown",
   "metadata": {}
  },
  {
   "cell_type": "code",
   "execution_count": null,
   "metadata": {},
   "outputs": [],
   "source": [
    "label_file = './data/cmumosei/CMU_MOSEI_Labels.csd'\n",
    "data.add_computational_sequences({'label': label_file}, destination = None)\n",
    "data.align('label')"
   ]
  },
  {
   "source": [
    "### Create dataframe of items"
   ],
   "cell_type": "markdown",
   "metadata": {}
  },
  {
   "cell_type": "code",
   "execution_count": null,
   "metadata": {},
   "outputs": [],
   "source": [
    "import numpy as np\n",
    "\n",
    "for segment in data['label'].keys():\n",
    "    label = data['label'][segment]['features']\n",
    "    audio = data['audio'][segment]['features']\n",
    "    video = data['video'][segment]['features']\n",
    "\n",
    "    # remove NAN values\n",
    "    label = np.nan_to_num(label).flatten()\n",
    "    audio = np.nan_to_num(audio).flatten()\n",
    "    video = np.nan_to_num(video).flatten()\n"
   ]
  }
 ]
}